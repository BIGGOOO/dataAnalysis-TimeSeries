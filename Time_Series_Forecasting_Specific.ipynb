{
 "cells": [
  {
   "cell_type": "markdown",
   "metadata": {},
   "source": [
    "# Time Series Forecasting\n",
    "\n",
    "This notebook demonstrates the process of forecasting 2023 data using the ARIMA model. \n",
    "It includes data loading, preparation, transformation, stationarity checking, ARIMA model training, forecasting, and evaluation.\n"
   ]
  },
  {
   "cell_type": "code",
   "execution_count": 5,
   "metadata": {},
   "outputs": [],
   "source": [
    "import pandas as pd\n",
    "from datetime import datetime, timedelta\n",
    "import numpy as np\n",
    "from statsmodels.tsa.stattools import adfuller\n",
    "from statsmodels.tsa.arima.model import ARIMA\n",
    "from statsmodels.graphics.tsaplots import plot_acf, plot_pacf\n",
    "import matplotlib.pyplot as plt\n",
    "from sklearn.metrics import mean_squared_error, mean_absolute_error\n",
    "import warnings\n",
    "\n",
    "warnings.filterwarnings(\"ignore\")"
   ]
  },
  {
   "cell_type": "code",
   "execution_count": 6,
   "metadata": {},
   "outputs": [],
   "source": [
    "# Load datasets for each year\n",
    "data_2019 = pd.read_csv('2019.csv')\n",
    "data_2020 = pd.read_csv('2020.csv')\n",
    "data_2021 = pd.read_csv('2021.csv')\n",
    "data_2022 = pd.read_csv('2022.csv')\n",
    "data_2023 = pd.read_csv('2023.csv')\n",
    "\n",
    "# Function to transform yearly data into a long format\n",
    "def transform_dataset(df, year):\n",
    "    melted_df = df.melt(id_vars=[\"Província\", \"Distrito\"], var_name=\"Week\", value_name=\"Value\")\n",
    "    first_jan = datetime(year, 1, 1)\n",
    "    first_monday = first_jan + timedelta(days=(7-first_jan.weekday()))\n",
    "    melted_df['Week'] = melted_df['Week'].str.extract('W(\\d+)').astype(int)\n",
    "    melted_df['Date'] = melted_df['Week'].apply(lambda x: first_monday + timedelta(weeks=x-1))\n",
    "    return melted_df[['Date', 'Value']]\n",
    "\n",
    "# Transform and combine datasets\n",
    "datasets = [data_2019, data_2020, data_2021, data_2022, data_2023]\n",
    "years = [2019, 2020, 2021, 2022, 2023]\n",
    "combined_data = pd.concat([transform_dataset(datasets[i], years[i]) for i in range(5)])\n",
    "\n",
    "# Aggregate weekly data\n",
    "combined_data = combined_data.groupby('Date')['Value'].sum().reset_index()\n",
    "combined_data.set_index('Date', inplace=True)"
   ]
  },
  {
   "cell_type": "markdown",
   "metadata": {},
   "source": [
    "## Stationarity Check"
   ]
  },
  {
   "cell_type": "code",
   "execution_count": 7,
   "metadata": {},
   "outputs": [
    {
     "name": "stdout",
     "output_type": "stream",
     "text": [
      "ADF Statistic: -4.844434791539266\n",
      "p-value: 4.468381991526131e-05\n",
      "Critical Values:\n",
      "    1%: -3.4566744514553016\n",
      "    5%: -2.8731248767783426\n",
      "    10%: -2.5729436702592023\n"
     ]
    }
   ],
   "source": [
    "# Check for stationarity\n",
    "def check_stationarity(timeseries):\n",
    "    result = adfuller(timeseries, autolag='AIC')\n",
    "    print('ADF Statistic:', result[0])\n",
    "    print('p-value:', result[1])\n",
    "    print('Critical Values:')\n",
    "    for key, value in result[4].items():\n",
    "        print(f'    {key}: {value}')\n",
    "\n",
    "check_stationarity(combined_data['Value'])"
   ]
  },
  {
   "cell_type": "markdown",
   "metadata": {},
   "source": [
    "## Model Training and Forecasting"
   ]
  },
  {
   "cell_type": "code",
   "execution_count": 8,
   "metadata": {},
   "outputs": [
    {
     "data": {
      "image/png": "[encoded data removed]",
      "text/plain": [
       "<Figure size 864x432 with 1 Axes>"
      ]
     },
     "metadata": {
      "needs_background": "light"
     },
     "output_type": "display_data"
    }
   ],
   "source": [
    "# Model selection and training\n",
    "model = ARIMA(combined_data['Value'], order=(1,1,1))\n",
    "model_fit = model.fit()\n",
    "\n",
    "# Forecasting\n",
    "forecast_steps = (combined_data.index.max() - pd.Timestamp('2023-01-01')).days // 7 + 1\n",
    "forecast = model_fit.forecast(steps=forecast_steps)\n",
    "\n",
    "# Plotting the results\n",
    "plt.figure(figsize=(12, 6))\n",
    "plt.plot(combined_data.index, combined_data['Value'], label='Historical Data')\n",
    "plt.plot(pd.date_range('2023-01-01', periods=forecast_steps, freq='W'), forecast, label='Forecasted Data', linestyle='--')\n",
    "plt.legend()\n",
    "plt.title('Time Series Forecasting')\n",
    "plt.show()"
   ]
  },
  {
   "cell_type": "markdown",
   "metadata": {},
   "source": [
    "## Evaluation"
   ]
  },
  {
   "cell_type": "code",
   "execution_count": 9,
   "metadata": {},
   "outputs": [
    {
     "name": "stdout",
     "output_type": "stream",
     "text": [
      "Mean Squared Error: 1693355.9425579398\n",
      "Mean Absolute Error: 613.7649453007477\n"
     ]
    }
   ],
   "source": [
    "# Evaluation\n",
    "# Assuming actual values for 2023 are available for comparison\n",
    "actual_2023 = combined_data['Value']['2023']\n",
    "\n",
    "# Calculate evaluation metrics\n",
    "mse = mean_squared_error(actual_2023[:len(forecast)], forecast)\n",
    "mae = mean_absolute_error(actual_2023[:len(forecast)], forecast)\n",
    "\n",
    "print(f'Mean Squared Error: {mse}')\n",
    "print(f'Mean Absolute Error: {mae}')"
   ]
  },
  {
   "cell_type": "code",
   "execution_count": 10,
   "metadata": {},
   "outputs": [
    {
     "data": {
      "text/plain": [
       "'result_2023.csv'"
      ]
     },
     "execution_count": 10,
     "metadata": {},
     "output_type": "execute_result"
    }
   ],
   "source": [
    "forecast_steps_actual_2023 = len(actual_2023)  # Number of weeks in 2023 for which we have actual data\n",
    "forecast_actual_2023 = model_fit.get_forecast(steps=forecast_steps_actual_2023).predicted_mean\n",
    "\n",
    "# Creating a DataFrame to hold both actual and forecasted values for 2023\n",
    "results_2023 = pd.DataFrame({\n",
    "    'Date': actual_2023.index,\n",
    "    'Actual': actual_2023.values,\n",
    "    'Forecasted': forecast_actual_2023.values\n",
    "})\n",
    "\n",
    "# Saving the results into a CSV file\n",
    "results_2023_csv_path = 'result_2023.csv'\n",
    "results_2023.to_csv(results_2023_csv_path, index=False)\n",
    "\n",
    "results_2023_csv_path"
   ]
  },
  {
   "cell_type": "code",
   "execution_count": 13,
   "metadata": {},
   "outputs": [
    {
     "data": {
      "text/html": [
       "<div>\n",
       "<style scoped>\n",
       "    .dataframe tbody tr th:only-of-type {\n",
       "        vertical-align: middle;\n",
       "    }\n",
       "\n",
       "    .dataframe tbody tr th {\n",
       "        vertical-align: top;\n",
       "    }\n",
       "\n",
       "    .dataframe thead th {\n",
       "        text-align: right;\n",
       "    }\n",
       "</style>\n",
       "<table border=\"1\" class=\"dataframe\">\n",
       "  <thead>\n",
       "    <tr style=\"text-align: right;\">\n",
       "      <th></th>\n",
       "      <th>Date</th>\n",
       "      <th>Actual</th>\n",
       "      <th>Forecasted</th>\n",
       "    </tr>\n",
       "  </thead>\n",
       "  <tbody>\n",
       "    <tr>\n",
       "      <th>0</th>\n",
       "      <td>2023-01-02</td>\n",
       "      <td>392.0</td>\n",
       "      <td>271.726317</td>\n",
       "    </tr>\n",
       "    <tr>\n",
       "      <th>1</th>\n",
       "      <td>2023-01-09</td>\n",
       "      <td>536.0</td>\n",
       "      <td>279.455669</td>\n",
       "    </tr>\n",
       "    <tr>\n",
       "      <th>2</th>\n",
       "      <td>2023-01-16</td>\n",
       "      <td>713.0</td>\n",
       "      <td>278.923551</td>\n",
       "    </tr>\n",
       "    <tr>\n",
       "      <th>3</th>\n",
       "      <td>2023-01-23</td>\n",
       "      <td>670.0</td>\n",
       "      <td>278.960184</td>\n",
       "    </tr>\n",
       "    <tr>\n",
       "      <th>4</th>\n",
       "      <td>2023-01-30</td>\n",
       "      <td>753.0</td>\n",
       "      <td>278.957662</td>\n",
       "    </tr>\n",
       "    <tr>\n",
       "      <th>5</th>\n",
       "      <td>2023-02-06</td>\n",
       "      <td>797.0</td>\n",
       "      <td>278.957836</td>\n",
       "    </tr>\n",
       "    <tr>\n",
       "      <th>6</th>\n",
       "      <td>2023-02-13</td>\n",
       "      <td>853.0</td>\n",
       "      <td>278.957824</td>\n",
       "    </tr>\n",
       "    <tr>\n",
       "      <th>7</th>\n",
       "      <td>2023-02-20</td>\n",
       "      <td>821.0</td>\n",
       "      <td>278.957825</td>\n",
       "    </tr>\n",
       "    <tr>\n",
       "      <th>8</th>\n",
       "      <td>2023-02-27</td>\n",
       "      <td>972.0</td>\n",
       "      <td>278.957825</td>\n",
       "    </tr>\n",
       "    <tr>\n",
       "      <th>9</th>\n",
       "      <td>2023-03-06</td>\n",
       "      <td>1211.0</td>\n",
       "      <td>278.957825</td>\n",
       "    </tr>\n",
       "  </tbody>\n",
       "</table>\n",
       "</div>"
      ],
      "text/plain": [
       "         Date  Actual  Forecasted\n",
       "0  2023-01-02   392.0  271.726317\n",
       "1  2023-01-09   536.0  279.455669\n",
       "2  2023-01-16   713.0  278.923551\n",
       "3  2023-01-23   670.0  278.960184\n",
       "4  2023-01-30   753.0  278.957662\n",
       "5  2023-02-06   797.0  278.957836\n",
       "6  2023-02-13   853.0  278.957824\n",
       "7  2023-02-20   821.0  278.957825\n",
       "8  2023-02-27   972.0  278.957825\n",
       "9  2023-03-06  1211.0  278.957825"
      ]
     },
     "execution_count": 13,
     "metadata": {},
     "output_type": "execute_result"
    }
   ],
   "source": [
    "result_df = pd.read_csv('result_2023.csv')\n",
    "result_df.head(10)"
   ]
  },
  {
   "cell_type": "code",
   "execution_count": 14,
   "metadata": {},
   "outputs": [
    {
     "data": {
      "image/png": "[encoded data removed]",
      "text/plain": [
       "<Figure size 1008x504 with 1 Axes>"
      ]
     },
     "metadata": {
      "needs_background": "light"
     },
     "output_type": "display_data"
    }
   ],
   "source": [
    "# Load the result data for comparison\n",
    "result_2023 = result_df\n",
    "\n",
    "# Convert 'Date' column to datetime format for plotting\n",
    "result_2023['Date'] = pd.to_datetime(result_2023['Date'])\n",
    "\n",
    "# Plotting actual vs. forecasted values\n",
    "plt.figure(figsize=(14, 7))\n",
    "plt.plot(result_2023['Date'], result_2023['Actual'], label='Actual 2023 Values', marker='o', color='blue')\n",
    "plt.plot(result_2023['Date'], result_2023['Forecasted'], label='Forecasted 2023 Values', linestyle='--', marker='x', color='red')\n",
    "plt.title('Actual vs. Forecasted Values for 2023')\n",
    "plt.xlabel('Date')\n",
    "plt.ylabel('Values')\n",
    "plt.legend()\n",
    "plt.xticks(rotation=45)\n",
    "plt.tight_layout()\n",
    "plt.show()"
   ]
  },
  {
   "cell_type": "code",
   "execution_count": 15,
   "metadata": {},
   "outputs": [
    {
     "data": {
      "text/plain": [
       "(1693355.9425579398, 613.7649453007477, 1301.2901069930333)"
      ]
     },
     "execution_count": 15,
     "metadata": {},
     "output_type": "execute_result"
    }
   ],
   "source": [
    "# Recalculating the evaluation metrics\n",
    "mse_result = mean_squared_error(result_2023['Actual'], result_2023['Forecasted'])\n",
    "mae_result = mean_absolute_error(result_2023['Actual'], result_2023['Forecasted'])\n",
    "rmse_result = np.sqrt(mse_result)\n",
    "\n",
    "mse_result, mae_result, rmse_result"
   ]
  },
  {
   "cell_type": "code",
   "execution_count": null,
   "metadata": {},
   "outputs": [],
   "source": []
  }
 ],
 "metadata": {
  "kernelspec": {
   "display_name": "Python 3",
   "language": "python",
   "name": "python3"
  },
  "language_info": {
   "codemirror_mode": {
    "name": "ipython",
    "version": 3
   },
   "file_extension": ".py",
   "mimetype": "text/x-python",
   "name": "python",
   "nbconvert_exporter": "python",
   "pygments_lexer": "ipython3",
   "version": "3.7.6"
  }
 },
 "nbformat": 4,
 "nbformat_minor": 5
}
